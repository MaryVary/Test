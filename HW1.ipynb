{
 "cells": [
  {
   "cell_type": "code",
   "execution_count": 2,
   "metadata": {},
   "outputs": [],
   "source": [
    "import numpy as np\n",
    "import matplotlib.pyplot as plt\n",
    "import h5py\n",
    "import scipy\n",
    "from PIL import Image\n",
    "from scipy import ndimage\n",
    "from lr_utils import load_dataset\n",
    "\n",
    "train_set_x_orig, train_set_y, test_set_x_orig, test_set_y, classes = load_dataset()\n",
    "%matplotlib inline"
   ]
  },
  {
   "cell_type": "code",
   "execution_count": 3,
   "metadata": {},
   "outputs": [
    {
     "data": {
      "text/plain": [
       "'cat'"
      ]
     },
     "execution_count": 3,
     "metadata": {},
     "output_type": "execute_result"
    },
    {
     "data": {
      "image/png": "[encoded data removed]",
      "text/plain": [
       "<Figure size 432x288 with 1 Axes>"
      ]
     },
     "metadata": {},
     "output_type": "display_data"
    }
   ],
   "source": [
    "index = 25\n",
    "plt.imshow(train_set_x_orig[index])\n",
    "classes[np.squeeze(train_set_y[:,index])].decode(\"utf-8\")"
   ]
  },
  {
   "cell_type": "code",
   "execution_count": 4,
   "metadata": {},
   "outputs": [],
   "source": [
    "train_set_x_flatten = train_set_x_orig.reshape(train_set_x_orig.shape[0],( -1))\n",
    "test_set_x_flatten = test_set_x_orig.reshape(test_set_x_orig.shape[0],( -1))"
   ]
  },
  {
   "cell_type": "code",
   "execution_count": 5,
   "metadata": {},
   "outputs": [],
   "source": [
    "train_set_x = train_set_x_flatten / 255.\n",
    "test_set_x = test_set_x_flatten / 255."
   ]
  },
  {
   "cell_type": "markdown",
   "metadata": {},
   "source": [
    "# Use Neural Network (MLP)"
   ]
  },
  {
   "cell_type": "code",
   "execution_count": 17,
   "metadata": {},
   "outputs": [
    {
     "name": "stderr",
     "output_type": "stream",
     "text": [
      "/Users/benyaminmoradzadeh/anaconda3/envs/python_venv_36/lib/python3.6/site-packages/sklearn/neural_network/multilayer_perceptron.py:912: DataConversionWarning: A column-vector y was passed when a 1d array was expected. Please change the shape of y to (n_samples, ), for example using ravel().\n",
      "  y = column_or_1d(y, warn=True)\n"
     ]
    },
    {
     "name": "stdout",
     "output_type": "stream",
     "text": [
      "Iteration 1, loss = 5.71551472\n",
      "Iteration 2, loss = 5.83902222\n",
      "Iteration 3, loss = 5.68409538\n",
      "Iteration 4, loss = 5.68690579\n",
      "Iteration 5, loss = 5.63549616\n",
      "Iteration 6, loss = 5.62265840\n",
      "Iteration 7, loss = 5.61484402\n",
      "Iteration 8, loss = 5.60513474\n",
      "Iteration 9, loss = 5.58650614\n",
      "Iteration 10, loss = 5.56954383\n",
      "Iteration 11, loss = 5.58517655\n",
      "Iteration 12, loss = 5.56645275\n",
      "Iteration 13, loss = 5.54825275\n",
      "Iteration 14, loss = 5.57127654\n",
      "Iteration 15, loss = 5.55497162\n",
      "Iteration 16, loss = 5.51877551\n",
      "Iteration 17, loss = 5.50816308\n",
      "Iteration 18, loss = 5.50801930\n",
      "Iteration 19, loss = 5.49630764\n",
      "Iteration 20, loss = 5.52904209\n",
      "Iteration 21, loss = 5.59479010\n",
      "Iteration 22, loss = 5.54055922\n",
      "Training loss did not improve more than tol=0.000000 for two consecutive epochs. Stopping.\n",
      "train accuracy: 84.21 %\n",
      "test accuracy: 70.00 %\n"
     ]
    }
   ],
   "source": [
    "\"\"\"\n",
    "You need to play around with the following three items\n",
    "to make sure the error is acceptable on the training and\n",
    "test sets:\n",
    "    1- Regularization Factor\n",
    "    2- Number of Hidden Layers \n",
    "    3 - umber of neurons in the hidden layers \n",
    "    (note that number of neurons in the hidden layers should be equal, e.g. hidden_layer_sizes=(14000,14000))\n",
    "    4 - solver\n",
    "number of neurons in the hidden layer, higher is better \n",
    "number of hidden layers, it is very common to use only one hidden layers\n",
    "\"\"\"\n",
    "\n",
    "from sklearn.neural_network import MLPClassifier\n",
    "from sklearn.metrics import accuracy_score\n",
    "\n",
    "regilarization_factor = 0.05\n",
    "clf = MLPClassifier(hidden_layer_sizes=(10000,10000), max_iter=500, alpha=regilarization_factor,\n",
    "                     solver='sgd', verbose=10,  random_state=21,tol=0.000000001)\n",
    "start = timeit.default_timer()\n",
    "clf.fit(train_set_x, train_set_y.T)\n",
    "start = timeit.default_timer()\n",
    "\n",
    "\n",
    "y_pred_test_nn = clf.predict(test_set_x)\n",
    "y_pred_train_nn = clf.predict(train_set_x)\n",
    "acc_test_nn = accuracy_score(test_set_y.T, y_pred_test_nn)\n",
    "acc_train_nn = accuracy_score(train_set_y.T, y_pred_train_nn)\n",
    "print(\"train accuracy: {:0.2f} %\".format(acc_train_nn*100))\n",
    "print(\"test accuracy: {:0.2f} %\".format(acc_test_nn*100))\n",
    "print('neural network training time: {:0.2f} seconds'.format(stop - start))  \n",
    "\n"
   ]
  },
  {
   "cell_type": "markdown",
   "metadata": {},
   "source": [
    "# Use SVM"
   ]
  },
  {
   "cell_type": "code",
   "execution_count": 36,
   "metadata": {},
   "outputs": [
    {
     "name": "stderr",
     "output_type": "stream",
     "text": [
      "/Users/benyaminmoradzadeh/anaconda3/envs/python_venv_36/lib/python3.6/site-packages/sklearn/utils/validation.py:578: DataConversionWarning: A column-vector y was passed when a 1d array was expected. Please change the shape of y to (n_samples, ), for example using ravel().\n",
      "  y = column_or_1d(y, warn=True)\n",
      "/Users/benyaminmoradzadeh/anaconda3/envs/python_venv_36/lib/python3.6/site-packages/sklearn/svm/base.py:218: ConvergenceWarning: Solver terminated early (max_iter=500).  Consider pre-processing your data with StandardScaler or MinMaxScaler.\n",
      "  % self.max_iter, ConvergenceWarning)\n"
     ]
    },
    {
     "name": "stdout",
     "output_type": "stream",
     "text": [
      "svm train accuracy: 100.00 %\n",
      "svm test accuracy: 76.00 %\n",
      "smv training time: 0.41 seconds\n"
     ]
    }
   ],
   "source": [
    "\"\"\"\n",
    "You need to play around with the following two items\n",
    "to make sure the error is acceptable on the training and\n",
    "test sets:\n",
    "    1- Regularization Factor\n",
    "    2- Kernel (rbf aka guassian is the most popular but sometimes linear perform well too (linear is faster))\n",
    "    \n",
    "    \n",
    "\"\"\"\n",
    "\n",
    "from sklearn.svm import SVC\n",
    "from sklearn.metrics import accuracy_score\n",
    "import timeit\n",
    "\n",
    "regilarization_factor = 0.00001\n",
    "svm_sol = SVC(C=float(1/regilarization_factor), kernel='rbf',max_iter=500,random_state=21)\n",
    "\n",
    "start = timeit.default_timer()\n",
    "svm_sol.fit(train_set_x, train_set_y.T)\n",
    "stop = timeit.default_timer()\n",
    "\n",
    "y_pred_test_svm = svm_sol.predict(test_set_x)\n",
    "y_pred_train_svm = svm_sol.predict(train_set_x)\n",
    "acc_test_svm = accuracy_score(test_set_y.T, y_pred_test_svm)\n",
    "acc_train_svm = accuracy_score(train_set_y.T, y_pred_train_svm)\n",
    "print(\"svm train accuracy: {:0.2f} %\".format(acc_train_svm*100))\n",
    "print(\"svm test accuracy: {:0.2f} %\".format(acc_test_svm*100))\n",
    "print('smv training time: {:0.02f} seconds'.format(stop - start))  \n",
    "\n"
   ]
  },
  {
   "cell_type": "code",
   "execution_count": 44,
   "metadata": {},
   "outputs": [
    {
     "name": "stdout",
     "output_type": "stream",
     "text": [
      "Actual impage is: cat\n",
      "Neural Network predicted impage is: cat\n",
      "SVM predicted impage is: not-cat\n"
     ]
    },
    {
     "data": {
      "image/png": "[encoded data removed]",
      "text/plain": [
       "<Figure size 432x288 with 1 Axes>"
      ]
     },
     "metadata": {},
     "output_type": "display_data"
    }
   ],
   "source": [
    "test_input_orig = test_set_x.reshape(50, 64, 64, 3)\n",
    "index = 6\n",
    "plt.imshow(test_input_orig[index])\n",
    "print('Actual impage is: {}'.format(classes[np.squeeze(test_set_y[:,index])].decode(\"utf-8\")))\n",
    "print('Neural Network predicted impage is: {}'.format('cat' if y_pred_test_nn[index]==1 else 'not-cat'))\n",
    "print('SVM predicted impage is: {}'.format('cat' if y_pred_test_svm[index]==1 else 'not-cat'))"
   ]
  },
  {
   "cell_type": "markdown",
   "metadata": {},
   "source": [
    "# Add Logistic Regression too"
   ]
  },
  {
   "cell_type": "code",
   "execution_count": null,
   "metadata": {},
   "outputs": [],
   "source": []
  }
 ],
 "metadata": {
  "kernelspec": {
   "display_name": "python_venv_36",
   "language": "python",
   "name": "python_venv_36"
  },
  "language_info": {
   "codemirror_mode": {
    "name": "ipython",
    "version": 3
   },
   "file_extension": ".py",
   "mimetype": "text/x-python",
   "name": "python",
   "nbconvert_exporter": "python",
   "pygments_lexer": "ipython3",
   "version": "3.6.1"
  }
 },
 "nbformat": 4,
 "nbformat_minor": 2
}
