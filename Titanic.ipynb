{
 "cells": [
  {
   "cell_type": "code",
   "execution_count": null,
   "metadata": {
    "collapsed": true
   },
   "outputs": [],
   "source": [
    "import numpy as np # linear algebra\n",
    "import pandas as pd # data processing, CSV file I/O (e.g. pd.read_csv)\n",
    "\n",
    "# Input data files are available in the \"../input/\" directory.\n",
    "# For example, running this (by clicking run or pressing Shift+Enter) will list the files in the input directory\n",
    "\n",
    "import os\n",
    "print(os.listdir(\"../input\"))\n",
    "\n",
    "# Any results you write to the current directory are saved as output.\n",
    "def Titanic_clean(data_type, path0): #test or train as string\n",
    "    file = os.path.join(path0, data_type + \".csv\")\n",
    "    df = pd.read_csv(file)  \n",
    "    df.replace('female', 1, inplace = True)\n",
    "    df.replace('male', 0, inplace = True)\n",
    "    df['Embarked'].replace('S', 0, inplace = True)\n",
    "    df['Embarked'].replace('C', 1, inplace = True)\n",
    "    df['Embarked'].replace('Q', 2, inplace = True)\n",
    "    Id = df['PassengerId']\n",
    "    df.drop(['PassengerId','Name', 'Ticket', 'Cabin'], axis = 1, inplace = True)\n",
    "    df.fillna(method='ffill', inplace = True)\n",
    "    if data_type == 'train':\n",
    "        y = df['Survived']\n",
    "        X = df.drop('Survived', axis = 1)\n",
    "        return y,X,Id\n",
    "    else:\n",
    "        X = df\n",
    "        return X, Id\n",
    "\n",
    "path0 = \"../input\"\n",
    "y_train, X_train, Id = Titanic_clean('train',path0)\n",
    "X_test, Id = Titanic_clean('test',path0)\n",
    "\n",
    "from sklearn.svm import SVC\n",
    "model_svc = SVC(C = 1)\n",
    "model_svc.fit(X_train, y_train)\n",
    "y_pred_svc = model_svc.predict(X_test)\n",
    "\n",
    "PassengerId = Id\n",
    "Survived = y_pred_svc"
   ]
  }
 ],
 "metadata": {
  "kernelspec": {
   "display_name": "Python 3",
   "language": "python",
   "name": "python3"
  },
  "language_info": {
   "codemirror_mode": {
    "name": "ipython",
    "version": 3
   },
   "file_extension": ".py",
   "mimetype": "text/x-python",
   "name": "python",
   "nbconvert_exporter": "python",
   "pygments_lexer": "ipython3",
   "version": "3.6.0"
  }
 },
 "nbformat": 4,
 "nbformat_minor": 2
}
